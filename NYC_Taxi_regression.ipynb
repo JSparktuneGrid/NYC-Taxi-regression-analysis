{
 "cells": [
  {
   "cell_type": "markdown",
   "id": "bd9b4449-4e90-4aac-97f0-e5748dde045a",
   "metadata": {},
   "source": [
    "# Build a multiple linear regression model"
   ]
  },
  {
   "cell_type": "markdown",
   "id": "a4961b2a-add0-452a-9d12-850f4540afe0",
   "metadata": {},
   "source": [
    "## Part 1"
   ]
  },
  {
   "cell_type": "markdown",
   "id": "108a8c7b-9de2-4089-b3be-3b368a2d4c11",
   "metadata": {},
   "source": [
    "### Task 1. Import and loading"
   ]
  },
  {
   "cell_type": "code",
   "execution_count": 3,
   "id": "6c5c9816-c651-4f62-9277-abeaa8ac507a",
   "metadata": {},
   "outputs": [],
   "source": [
    "# Imports\n",
    "# Packages for numerics + dataframes\n",
    "import pandas as pd\n",
    "import numpy as np\n",
    "\n",
    "# Packages for visualization\n",
    "import matplotlib.pyplot as plt\n",
    "import seaborn as sns\n",
    "\n",
    "# Packages for date conversions for calculating trip durations\n",
    "from datetime import datetime\n",
    "from datetime import date\n",
    "from datetime import timedelta\n",
    "\n",
    "# Packages for OLS, MLR, confusion matrix\n",
    "from sklearn.preprocessing import StandardScaler\n",
    "from sklearn.model_selection import train_test_split\n",
    "import sklearn.metrics as metrics # For confusion matrix\n",
    "from sklearn.linear_model import LinearRegression\n",
    "from sklearn.metrics import mean_absolute_error,r2_score,mean_squared_error"
   ]
  },
  {
   "cell_type": "code",
   "execution_count": null,
   "id": "524f729e-4ff6-4c7d-8d1a-bebb7e058f48",
   "metadata": {},
   "outputs": [],
   "source": [
    "df0=pd.read_csv(\"2017_Yellow_Taxi_Trip_Data.csv\")"
   ]
  }
 ],
 "metadata": {
  "kernelspec": {
   "display_name": "Python 3 (ipykernel)",
   "language": "python",
   "name": "python3"
  },
  "language_info": {
   "codemirror_mode": {
    "name": "ipython",
    "version": 3
   },
   "file_extension": ".py",
   "mimetype": "text/x-python",
   "name": "python",
   "nbconvert_exporter": "python",
   "pygments_lexer": "ipython3",
   "version": "3.11.5"
  }
 },
 "nbformat": 4,
 "nbformat_minor": 5
}
